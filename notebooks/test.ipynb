{
 "cells": [
  {
   "cell_type": "code",
   "execution_count": 1,
   "metadata": {},
   "outputs": [
    {
     "name": "stderr",
     "output_type": "stream",
     "text": [
      "[nltk_data] Downloading package punkt to\n",
      "[nltk_data]     C:\\Users\\Abbaa\\AppData\\Roaming\\nltk_data...\n",
      "[nltk_data]   Package punkt is already up-to-date!\n",
      "[nltk_data] Downloading package stopwords to\n",
      "[nltk_data]     C:\\Users\\Abbaa\\AppData\\Roaming\\nltk_data...\n",
      "[nltk_data]   Package stopwords is already up-to-date!\n",
      "c:\\Users\\Abbaa\\OneDrive\\Bureaublad\\Vigilant-Dev\\.venv\\lib\\site-packages\\tqdm\\auto.py:21: TqdmWarning: IProgress not found. Please update jupyter and ipywidgets. See https://ipywidgets.readthedocs.io/en/stable/user_install.html\n",
      "  from .autonotebook import tqdm as notebook_tqdm\n"
     ]
    }
   ],
   "source": [
    "# Import necessary functions from package\n",
    "import vigilant_dev\n",
    "from vigilant_dev.data_processing import process_data, clean_text, extract_topics, markdown_files_to_df\n",
    "from vigilant_dev.model import text_to_vector\n",
    "from vigilant_dev.workflow import process_courses\n",
    "from sklearn.decomposition import PCA\n"
   ]
  },
  {
   "cell_type": "code",
   "execution_count": 3,
   "metadata": {},
   "outputs": [
    {
     "data": {
      "text/html": [
       "<div>\n",
       "<style scoped>\n",
       "    .dataframe tbody tr th:only-of-type {\n",
       "        vertical-align: middle;\n",
       "    }\n",
       "\n",
       "    .dataframe tbody tr th {\n",
       "        vertical-align: top;\n",
       "    }\n",
       "\n",
       "    .dataframe thead th {\n",
       "        text-align: right;\n",
       "    }\n",
       "</style>\n",
       "<table border=\"1\" class=\"dataframe\">\n",
       "  <thead>\n",
       "    <tr style=\"text-align: right;\">\n",
       "      <th></th>\n",
       "      <th>title</th>\n",
       "      <th>description</th>\n",
       "      <th>link</th>\n",
       "      <th>filename</th>\n",
       "    </tr>\n",
       "  </thead>\n",
       "  <tbody>\n",
       "    <tr>\n",
       "      <th>0</th>\n",
       "      <td>How to build your own LLM</td>\n",
       "      <td>Deep Learning, Large Language Models, Neural N...</td>\n",
       "      <td>http://example.com/course/advanced-ml</td>\n",
       "      <td>resource1.md</td>\n",
       "    </tr>\n",
       "    <tr>\n",
       "      <th>1</th>\n",
       "      <td>Leadership and Team Management Skills</td>\n",
       "      <td>Personal development, product owner, team buil...</td>\n",
       "      <td>http://example.com/course/advanced-ml</td>\n",
       "      <td>resource2.md</td>\n",
       "    </tr>\n",
       "    <tr>\n",
       "      <th>2</th>\n",
       "      <td>Web Development</td>\n",
       "      <td>Web Development with HTML, CSS, and JavaScript</td>\n",
       "      <td>http://example.com/course/advanced-ml</td>\n",
       "      <td>resource3.md</td>\n",
       "    </tr>\n",
       "    <tr>\n",
       "      <th>3</th>\n",
       "      <td>Timeseries Forecasting</td>\n",
       "      <td>timeseries forecasting, python, data science, ...</td>\n",
       "      <td>http://example.com/course/advanced-ml</td>\n",
       "      <td>resource4.md</td>\n",
       "    </tr>\n",
       "    <tr>\n",
       "      <th>4</th>\n",
       "      <td>Introduction to Neural Nets</td>\n",
       "      <td>neural nets, python, deep learning</td>\n",
       "      <td>http://example.com/course/advanced-ml</td>\n",
       "      <td>resource5.md</td>\n",
       "    </tr>\n",
       "    <tr>\n",
       "      <th>5</th>\n",
       "      <td>Bayesian Modeling Methods</td>\n",
       "      <td>Bayesian statistical modeling, python</td>\n",
       "      <td>http://example.com/course/advanced-ml</td>\n",
       "      <td>resource6.md</td>\n",
       "    </tr>\n",
       "    <tr>\n",
       "      <th>6</th>\n",
       "      <td>How to build an API</td>\n",
       "      <td>API, Application Programming interface, softwa...</td>\n",
       "      <td>http://example.com/course/advanced-ml</td>\n",
       "      <td>resource7.md</td>\n",
       "    </tr>\n",
       "    <tr>\n",
       "      <th>7</th>\n",
       "      <td>Using Generative AI</td>\n",
       "      <td>using generative artifical intelligence, promp...</td>\n",
       "      <td>http://example.com/course/advanced-ml</td>\n",
       "      <td>resource8.md</td>\n",
       "    </tr>\n",
       "    <tr>\n",
       "      <th>8</th>\n",
       "      <td>Soft Skills for Stakeholder Communication</td>\n",
       "      <td>soft skills for business stakeholder communica...</td>\n",
       "      <td>http://example.com/course/advanced-ml</td>\n",
       "      <td>resource9.md</td>\n",
       "    </tr>\n",
       "  </tbody>\n",
       "</table>\n",
       "</div>"
      ],
      "text/plain": [
       "                                       title  \\\n",
       "0                  How to build your own LLM   \n",
       "1      Leadership and Team Management Skills   \n",
       "2                            Web Development   \n",
       "3                     Timeseries Forecasting   \n",
       "4                Introduction to Neural Nets   \n",
       "5                  Bayesian Modeling Methods   \n",
       "6                        How to build an API   \n",
       "7                        Using Generative AI   \n",
       "8  Soft Skills for Stakeholder Communication   \n",
       "\n",
       "                                         description  \\\n",
       "0  Deep Learning, Large Language Models, Neural N...   \n",
       "1  Personal development, product owner, team buil...   \n",
       "2     Web Development with HTML, CSS, and JavaScript   \n",
       "3  timeseries forecasting, python, data science, ...   \n",
       "4                 neural nets, python, deep learning   \n",
       "5              Bayesian statistical modeling, python   \n",
       "6  API, Application Programming interface, softwa...   \n",
       "7  using generative artifical intelligence, promp...   \n",
       "8  soft skills for business stakeholder communica...   \n",
       "\n",
       "                                    link      filename  \n",
       "0  http://example.com/course/advanced-ml  resource1.md  \n",
       "1  http://example.com/course/advanced-ml  resource2.md  \n",
       "2  http://example.com/course/advanced-ml  resource3.md  \n",
       "3  http://example.com/course/advanced-ml  resource4.md  \n",
       "4  http://example.com/course/advanced-ml  resource5.md  \n",
       "5  http://example.com/course/advanced-ml  resource6.md  \n",
       "6  http://example.com/course/advanced-ml  resource7.md  \n",
       "7  http://example.com/course/advanced-ml  resource8.md  \n",
       "8  http://example.com/course/advanced-ml  resource9.md  "
      ]
     },
     "execution_count": 3,
     "metadata": {},
     "output_type": "execute_result"
    }
   ],
   "source": [
    "output_df"
   ]
  },
  {
   "cell_type": "code",
   "execution_count": 2,
   "metadata": {},
   "outputs": [],
   "source": [
    "df, mapping = process_courses('test_data.csv')"
   ]
  },
  {
   "cell_type": "code",
   "execution_count": 3,
   "metadata": {},
   "outputs": [],
   "source": [
    "vectors = list(df['vector'])\n",
    "descriptions = list(df['description'])\n",
    "links = list(df['link'])"
   ]
  },
  {
   "cell_type": "code",
   "execution_count": 24,
   "metadata": {},
   "outputs": [
    {
     "data": {
      "text/html": [
       "<div>\n",
       "<style scoped>\n",
       "    .dataframe tbody tr th:only-of-type {\n",
       "        vertical-align: middle;\n",
       "    }\n",
       "\n",
       "    .dataframe tbody tr th {\n",
       "        vertical-align: top;\n",
       "    }\n",
       "\n",
       "    .dataframe thead th {\n",
       "        text-align: right;\n",
       "    }\n",
       "</style>\n",
       "<table border=\"1\" class=\"dataframe\">\n",
       "  <thead>\n",
       "    <tr style=\"text-align: right;\">\n",
       "      <th></th>\n",
       "      <th>title</th>\n",
       "      <th>description</th>\n",
       "      <th>rating</th>\n",
       "      <th>link</th>\n",
       "      <th>cleaned_description</th>\n",
       "      <th>vector</th>\n",
       "    </tr>\n",
       "  </thead>\n",
       "  <tbody>\n",
       "    <tr>\n",
       "      <th>0</th>\n",
       "      <td>title1</td>\n",
       "      <td>Advanced Machine Learning techniques and appli...</td>\n",
       "      <td>4.5</td>\n",
       "      <td>http://example.com/course/advanced-ml</td>\n",
       "      <td>advanced machine learning techniques and appli...</td>\n",
       "      <td>[tensor(-0.1545), tensor(0.2575), tensor(-0.25...</td>\n",
       "    </tr>\n",
       "    <tr>\n",
       "      <th>1</th>\n",
       "      <td>title2</td>\n",
       "      <td>Introduction to Python Programming</td>\n",
       "      <td>4.0</td>\n",
       "      <td>http://example.com/course/intro-python</td>\n",
       "      <td>introduction to python programming</td>\n",
       "      <td>[tensor(-0.1622), tensor(0.0741), tensor(-0.42...</td>\n",
       "    </tr>\n",
       "    <tr>\n",
       "      <th>2</th>\n",
       "      <td>title3</td>\n",
       "      <td>Leadership and Team Management Skills</td>\n",
       "      <td>4.8</td>\n",
       "      <td>http://example.com/course/leadership</td>\n",
       "      <td>leadership and team management skills</td>\n",
       "      <td>[tensor(-0.0109), tensor(0.1120), tensor(-0.36...</td>\n",
       "    </tr>\n",
       "    <tr>\n",
       "      <th>3</th>\n",
       "      <td>title4</td>\n",
       "      <td>Web Development with HTML, CSS, and JavaScript</td>\n",
       "      <td>4.2</td>\n",
       "      <td>http://example.com/course/web-dev</td>\n",
       "      <td>web development with html  css  and javascript</td>\n",
       "      <td>[tensor(0.0397), tensor(0.1809), tensor(0.0331...</td>\n",
       "    </tr>\n",
       "    <tr>\n",
       "      <th>4</th>\n",
       "      <td>title5</td>\n",
       "      <td>Data Analysis with Python and Pandas</td>\n",
       "      <td>4.7</td>\n",
       "      <td>http://example.com/course/data-analysis</td>\n",
       "      <td>data analysis with python and pandas</td>\n",
       "      <td>[tensor(-0.1422), tensor(-0.0031), tensor(-0.2...</td>\n",
       "    </tr>\n",
       "  </tbody>\n",
       "</table>\n",
       "</div>"
      ],
      "text/plain": [
       "    title                                        description  rating  \\\n",
       "0  title1  Advanced Machine Learning techniques and appli...     4.5   \n",
       "1  title2                 Introduction to Python Programming     4.0   \n",
       "2  title3              Leadership and Team Management Skills     4.8   \n",
       "3  title4     Web Development with HTML, CSS, and JavaScript     4.2   \n",
       "4  title5               Data Analysis with Python and Pandas     4.7   \n",
       "\n",
       "                                      link  \\\n",
       "0    http://example.com/course/advanced-ml   \n",
       "1   http://example.com/course/intro-python   \n",
       "2     http://example.com/course/leadership   \n",
       "3        http://example.com/course/web-dev   \n",
       "4  http://example.com/course/data-analysis   \n",
       "\n",
       "                                 cleaned_description  \\\n",
       "0  advanced machine learning techniques and appli...   \n",
       "1                 introduction to python programming   \n",
       "2              leadership and team management skills   \n",
       "3     web development with html  css  and javascript   \n",
       "4               data analysis with python and pandas   \n",
       "\n",
       "                                              vector  \n",
       "0  [tensor(-0.1545), tensor(0.2575), tensor(-0.25...  \n",
       "1  [tensor(-0.1622), tensor(0.0741), tensor(-0.42...  \n",
       "2  [tensor(-0.0109), tensor(0.1120), tensor(-0.36...  \n",
       "3  [tensor(0.0397), tensor(0.1809), tensor(0.0331...  \n",
       "4  [tensor(-0.1422), tensor(-0.0031), tensor(-0.2...  "
      ]
     },
     "execution_count": 24,
     "metadata": {},
     "output_type": "execute_result"
    }
   ],
   "source": [
    "df"
   ]
  },
  {
   "cell_type": "code",
   "execution_count": 14,
   "metadata": {},
   "outputs": [
    {
     "data": {
      "image/png": "[encoded data removed]",
      "text/plain": [
       "<Figure size 640x480 with 1 Axes>"
      ]
     },
     "metadata": {},
     "output_type": "display_data"
    }
   ],
   "source": [
    "from sklearn.decomposition import PCA\n",
    "import matplotlib.pyplot as plt\n",
    "\n",
    "pca = PCA(n_components=3)\n",
    "reduced_vectors = pca.fit_transform(vectors)\n",
    "\n",
    "# Simple 3D Scatter Plot\n",
    "fig = plt.figure()\n",
    "ax = fig.add_subplot(111, projection='3d')\n",
    "ax.scatter(reduced_vectors[:,0], reduced_vectors[:,1], reduced_vectors[:,2])\n",
    "plt.show()\n"
   ]
  },
  {
   "cell_type": "code",
   "execution_count": 15,
   "metadata": {},
   "outputs": [
    {
     "data": {
      "text/plain": [
       "array([[ 1.2008548 ,  0.56983141,  2.86456138],\n",
       "       [-1.68233598,  3.2958588 , -1.03589953],\n",
       "       [ 4.77120648, -0.49338956, -1.31602082],\n",
       "       [-2.13434275, -2.57024601, -0.40797872],\n",
       "       [-2.15538256, -0.80205464, -0.10466231]])"
      ]
     },
     "execution_count": 15,
     "metadata": {},
     "output_type": "execute_result"
    }
   ],
   "source": [
    "reduced_vectors"
   ]
  },
  {
   "cell_type": "code",
   "execution_count": null,
   "metadata": {},
   "outputs": [],
   "source": []
  }
 ],
 "metadata": {
  "kernelspec": {
   "display_name": ".venv",
   "language": "python",
   "name": "python3"
  },
  "language_info": {
   "codemirror_mode": {
    "name": "ipython",
    "version": 3
   },
   "file_extension": ".py",
   "mimetype": "text/x-python",
   "name": "python",
   "nbconvert_exporter": "python",
   "pygments_lexer": "ipython3",
   "version": "3.9.13"
  }
 },
 "nbformat": 4,
 "nbformat_minor": 2
}
